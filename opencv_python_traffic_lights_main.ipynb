{
 "cells": [
  {
   "cell_type": "code",
   "execution_count": null,
   "metadata": {},
   "outputs": [],
   "source": [
    "import cv2\n",
    "import numpy as np\n",
    "from matplotlib import pyplot as plt\n",
    "\n",
    "#I'm using a jupyter notebook to create this so displaying the images requires a little function trickery\n",
    "\n",
    "#grayscale plot or binary image plot\n",
    "def gplot(img):\n",
    "    plt.figure(figsize=(12,12))\n",
    "    return plt.imshow(img,cmap=\"gray\", vmin=0, vmax=255)\n",
    "\n",
    "#convert BGR image from BGR to RGB then plot it\n",
    "def iplot(img):\n",
    "    plt.figure(figsize=(12,12))\n",
    "    imgrgb= cv2.cvtColor(img,cv2.COLOR_BGR2RGB)\n",
    "    return plt.imshow(imgrgb)"
   ]
  },
  {
   "cell_type": "code",
   "execution_count": null,
   "metadata": {
    "scrolled": true
   },
   "outputs": [],
   "source": [
    "#Read in the target image and plot it:\n",
    "target = cv2.imread('/Users/code/Downloads/CamVidLights/CamVidLights10.png')\n",
    "iplot(target)"
   ]
  },
  {
   "cell_type": "code",
   "execution_count": null,
   "metadata": {},
   "outputs": [],
   "source": [
    "#Final approach works with: 10,1,2"
   ]
  },
  {
   "cell_type": "code",
   "execution_count": null,
   "metadata": {},
   "outputs": [],
   "source": [
    "#segmenting into a left and right image so I can more easily process the two traffic lights\n",
    "#my process will most likely only work when one traffic light is in the image area being looked at\n",
    "#although I could extend it by having it run the process again and looking for the second place confidence matches\n",
    "#no longer cropping height wise however the variable names have remained to maintain working operation\n",
    "\n",
    "(h, w) = target.shape[:2]\n",
    "croppedleft=target[:int(h),:int(w/2)]\n",
    "croppedright=target[:int(h),int(w/2):]\n",
    "iplot(croppedleft)\n",
    "iplot(croppedright)"
   ]
  },
  {
   "cell_type": "code",
   "execution_count": null,
   "metadata": {},
   "outputs": [],
   "source": [
    "#Here I apply Mean Shift to the images, however, I left the parameters what they were in the documentation tutorial\n",
    "meanshiftedleft=cv2.pyrMeanShiftFiltering(croppedleft,20,40,2)\n",
    "meanshiftedright=cv2.pyrMeanShiftFiltering(croppedright,20,40,2)\n",
    "iplot(meanshiftedleft)\n",
    "iplot(meanshiftedright)"
   ]
  },
  {
   "cell_type": "code",
   "execution_count": null,
   "metadata": {},
   "outputs": [],
   "source": [
    "#Now I convert the image to grayscale to use in canny edge detection, although it now occurs to me I don't have to do this\n",
    "#as i believe the canny operator contains a \"to-grayscale conversion\"\n"
   ]
  },
  {
   "cell_type": "code",
   "execution_count": null,
   "metadata": {},
   "outputs": [],
   "source": [
    "meanshiftedleftgray=cv2.cvtColor(meanshiftedleft,cv2.COLOR_BGR2GRAY)"
   ]
  },
  {
   "cell_type": "code",
   "execution_count": null,
   "metadata": {},
   "outputs": [],
   "source": [
    "meanshiftedrightgray=cv2.cvtColor(meanshiftedright,cv2.COLOR_BGR2GRAY)"
   ]
  },
  {
   "cell_type": "code",
   "execution_count": null,
   "metadata": {},
   "outputs": [],
   "source": [
    "gplot(meanshiftedleftgray)\n",
    "gplot(meanshiftedrightgray)"
   ]
  },
  {
   "cell_type": "code",
   "execution_count": null,
   "metadata": {},
   "outputs": [],
   "source": [
    "#using canny:"
   ]
  },
  {
   "cell_type": "code",
   "execution_count": null,
   "metadata": {},
   "outputs": [],
   "source": [
    "meanshiftedleftedge=cv2.Canny(meanshiftedleftgray,50,200)\n",
    "meanshiftedrightedge=cv2.Canny(meanshiftedrightgray,50,200)"
   ]
  },
  {
   "cell_type": "code",
   "execution_count": null,
   "metadata": {},
   "outputs": [],
   "source": [
    "gplot(meanshiftedleftedge)\n",
    "gplot(meanshiftedrightedge)"
   ]
  },
  {
   "cell_type": "code",
   "execution_count": null,
   "metadata": {},
   "outputs": [],
   "source": [
    "#Now I find contours in the image. I found that findContours and my solution worked best on edge detection instead of grayscale mean-shifted version\n",
    "#hence the commented our findContours on the grayscale version"
   ]
  },
  {
   "cell_type": "code",
   "execution_count": null,
   "metadata": {},
   "outputs": [],
   "source": [
    "imagecontours, contours, hierarchy = cv2.findContours(meanshiftedleftedge, cv2.RETR_TREE, cv2.CHAIN_APPROX_NONE)"
   ]
  },
  {
   "cell_type": "code",
   "execution_count": null,
   "metadata": {},
   "outputs": [],
   "source": [
    "#imagecontours, contours, hierarchy = cv2.findContours(meanshiftedleftgray, cv2.RETR_TREE, cv2.CHAIN_APPROX_NONE)"
   ]
  },
  {
   "cell_type": "code",
   "execution_count": null,
   "metadata": {},
   "outputs": [],
   "source": [
    "#Here I am intializing lists:\n",
    "#That i am using to collect coordinates of circular and rectangular contours:\n",
    "#The meanlist is used to determine the average intensity within a circular region which is used to help verify the circlular region is an illuminated light\n",
    "#circleinside list is used to capture the circles found within rectangular regions which is helpful to determine if the rectangular region contains a traffic light"
   ]
  },
  {
   "cell_type": "code",
   "execution_count": null,
   "metadata": {},
   "outputs": [],
   "source": [
    "circlist=[]\n",
    "rectlist=[]\n",
    "meanlist=[]\n",
    "complist=[]\n",
    "circleinsidelist=[]"
   ]
  },
  {
   "cell_type": "code",
   "execution_count": null,
   "metadata": {},
   "outputs": [],
   "source": [
    "#Here I am looking for circlular regions within the image:\n",
    "for cnt in contours:\n",
    "    #I tried using hough circle transformation but got poor results as\n",
    "    #the parameter numbers given to the hough circle function seemed liked magic and were very particluar to each photo\n",
    "    #Thus i decided to use minimum encolosing circle contour selection\n",
    "    (x,y),radius = cv2.minEnclosingCircle(cnt)\n",
    "    radius = int(radius)\n",
    "    center = (int(x),int(y))\n",
    "    area=cv2.contourArea(cnt)\n",
    "    \n",
    "    #Here I am matching the minimum enclosing circle to a perfect circle using matchShapes. \n",
    "    #Everything in this section done before  matchShapes is creating the contour for the perfect circle\n",
    "    mask=np.zeros(meanshiftedleftgray.shape,np.uint8)\n",
    "    cv2.circle(mask,center,radius,255,-1,cv2.LINE_AA)\n",
    "    #pretty sure this will generate error if it finds multiple signals- like the red and yellow picture\n",
    "    tempcontour = cv2.findContours(mask, cv2.RETR_TREE, cv2.CHAIN_APPROX_NONE)[0]\n",
    "    #Also I am calculating the mean intensity value inside the circular region as mentioned previously\n",
    "    mean_val=cv2.mean(meanshiftedleftgray,mask)[0]\n",
    "    compare_val=cv2.matchShapes(cnt,tempcontour,1,0.0)\n",
    "\n",
    "    #Now I run my conditional statement that checks to see if the circular region has \n",
    "    #a reasonably expected radial size, mean intensity value, and a matchShape value.\n",
    "    \n",
    "    #I have left all of these commented out condtional statements to show the various tweaking I had to do\n",
    "    #in order to get it to work as best as possible on the images\n",
    "    #I defintely see this necessary tweaking as a weak point of my solution and it limits the usability of my approach on a different set of images\n",
    "    \n",
    "    \n",
    "    #if radius<20 and radius>10 and area>100:\n",
    "    #if radius<20 and radius>5 and area>50:\n",
    "    #if radius<15 and radius>5 and area>100 and mean_val>160 and compare_val<1:#i think this worked last\n",
    "    #if radius<15 and radius>5 and area>100 and mean_val>100 and compare_val<1:#i think this worked last\n",
    "    #if radius<15 and radius>5 and area>100 and mean_val>100 and compare_val<1: #not working on 3\n",
    "    #if radius<20 and radius>3 and mean_val>100 and compare_val<1:  not working on 4\n",
    "    if radius<20 and radius>3 and mean_val>40 and compare_val<1:  \n",
    "        #Here I draw the circle on the image:\n",
    "        cv2.circle(imagecontours,center,radius,(255,255,255),2)\n",
    "        #Here i collect the coordinate information, intensity information, and match value info\n",
    "        #of the circle to later be used \n",
    "        circlist.append([center,radius,compare_val])\n",
    "        meanlist.append([mean_val])\n",
    "        complist.append([compare_val])\n",
    "\n",
    "    "
   ]
  },
  {
   "cell_type": "code",
   "execution_count": null,
   "metadata": {},
   "outputs": [],
   "source": [
    "gplot(imagecontours)"
   ]
  },
  {
   "cell_type": "code",
   "execution_count": null,
   "metadata": {},
   "outputs": [],
   "source": [
    "#Now I am looking for rectangular regions that also contain a circlualr region that was found previously\n",
    "\n",
    "for cnt in contours: \n",
    "    #Finding rectangular regions\n",
    "    x,y,w,h=cv2.boundingRect(cnt)\n",
    "    centerrect=(int(x),int(y))\n",
    "    dimrect=(int(w),int(h))\n",
    "    arearect=w*h\n",
    "    \n",
    "    #Comparing rectangular regions to perfect rectangle\n",
    "    \n",
    "    mask=np.zeros(meanshiftedleftgray.shape,np.uint8)\n",
    "    cv2.rectangle(mask,(x,y),(x+w,y+h),255,-1,cv2.LINE_AA)\n",
    "    tempcontour = cv2.findContours(mask, cv2.RETR_TREE, cv2.CHAIN_APPROX_NONE)[0]\n",
    "    compare_val=cv2.matchShapes(cnt,tempcontour,1,0.0)\n",
    "\n",
    "    #Checking to see if a circular region found previously exists in this rectangle\n",
    "    # I think I'm doing something wrong with this piece of code\n",
    "    #As sometimes my circular regions found preivously get ignored\n",
    "    circlecheck=0\n",
    "    tempcircle=[]\n",
    "    \n",
    "    for cent in circlist:\n",
    "        result=cv2.pointPolygonTest(cnt,cent[0],False)\n",
    "\n",
    "        if result==0 or result==1:\n",
    "            circlecheck=1\n",
    "            tempcircle=cent\n",
    "\n",
    "    #Here I have my conditional statement to determine if the rectangular region is worth recording and draw:\n",
    "    \n",
    "    #Again I've left the various tweaking I had to do: \n",
    "    #if arearect>5000 and arearect<20000 and circlecheck==1:\n",
    "    #for image 1 the rectangle is about 1800; 5000 was for image 10\n",
    "    #if arearect>1500 and arearect<20000 and circlecheck==1 and compare_val<1.5:\n",
    "    if arearect>500 and arearect<20000 and circlecheck==1 and compare_val<1.5:\n",
    "        cv2.rectangle(imagecontours,(x,y),(x+w,y+h),(255,255,255),2)\n",
    "        rectlist.append([centerrect,dimrect,compare_val])\n",
    "        circleinsidelist.append([tempcircle])\n",
    "\n",
    "        "
   ]
  },
  {
   "cell_type": "code",
   "execution_count": null,
   "metadata": {},
   "outputs": [],
   "source": [
    "#circleinsidelist"
   ]
  },
  {
   "cell_type": "code",
   "execution_count": null,
   "metadata": {},
   "outputs": [],
   "source": [
    "#tempcircle"
   ]
  },
  {
   "cell_type": "code",
   "execution_count": null,
   "metadata": {},
   "outputs": [],
   "source": [
    "gplot(imagecontours)"
   ]
  },
  {
   "cell_type": "code",
   "execution_count": null,
   "metadata": {},
   "outputs": [],
   "source": [
    "#circlist"
   ]
  },
  {
   "cell_type": "code",
   "execution_count": null,
   "metadata": {},
   "outputs": [],
   "source": [
    "#when it detects two close to each other it must be "
   ]
  },
  {
   "cell_type": "code",
   "execution_count": null,
   "metadata": {},
   "outputs": [],
   "source": [
    "#circlist[0][0]"
   ]
  },
  {
   "cell_type": "code",
   "execution_count": null,
   "metadata": {},
   "outputs": [],
   "source": [
    "#rectlist"
   ]
  },
  {
   "cell_type": "code",
   "execution_count": null,
   "metadata": {},
   "outputs": [],
   "source": [
    "#len(rectlist)\n"
   ]
  },
  {
   "cell_type": "code",
   "execution_count": null,
   "metadata": {},
   "outputs": [],
   "source": [
    "#If multiple rectangles with circular were found I select the rectangle that had the best match with a perfect rectangular shape\n",
    "#But in theory I should also include the match with the circlar\n",
    "#And maybe even if the rectangular region best matches with a shape of a traffic light, so basically template matching on these \n",
    "#regions\n",
    "rectlistfinal=[]\n",
    "tempmatchglobal=999999\n",
    "if len(rectlist)>1:\n",
    "    for rect in rectlist:\n",
    "        tempmatch=rect[2]\n",
    "        if tempmatch<tempmatchglobal:\n",
    "            reclistfinal=rect\n",
    "            tempmatchglobal=tempmatch\n",
    "else:\n",
    "    reclistfinal=rectlist[0]"
   ]
  },
  {
   "cell_type": "code",
   "execution_count": null,
   "metadata": {},
   "outputs": [],
   "source": [
    "#circleinsidelist"
   ]
  },
  {
   "cell_type": "code",
   "execution_count": null,
   "metadata": {},
   "outputs": [],
   "source": [
    "#Here I have the final coordinates of my rectangle\n",
    "reclistfinal"
   ]
  },
  {
   "cell_type": "code",
   "execution_count": null,
   "metadata": {},
   "outputs": [],
   "source": [
    "#determine the top left and bottom right of box\n",
    "topleft=reclistfinal[0]\n",
    "topleft"
   ]
  },
  {
   "cell_type": "code",
   "execution_count": null,
   "metadata": {},
   "outputs": [],
   "source": [
    "bottomright=(reclistfinal[0][0]+reclistfinal[1][0],reclistfinal[0][1]+reclistfinal[1][1])"
   ]
  },
  {
   "cell_type": "code",
   "execution_count": null,
   "metadata": {},
   "outputs": [],
   "source": [
    "bottomright"
   ]
  },
  {
   "cell_type": "code",
   "execution_count": null,
   "metadata": {},
   "outputs": [],
   "source": [
    "#circleinsidelist"
   ]
  },
  {
   "cell_type": "code",
   "execution_count": null,
   "metadata": {},
   "outputs": [],
   "source": [
    "#If multiple circular existed in the selected rectangular region\n",
    "#I now find the best matched circule in this region\n",
    "\n",
    "circlelistfinal=[]\n",
    "tempmatchglobal=999999\n",
    "if len(circleinsidelist)>1:\n",
    "    for circle in circleinsidelist:\n",
    "        tempmatch=circle[0][2]\n",
    "        if tempmatch<tempmatchglobal:\n",
    "            circlelistfinal=circle\n",
    "            tempmatchglobal=tempmatch\n",
    "else:\n",
    "    circlelistfinal=circleinsidelist[0]"
   ]
  },
  {
   "cell_type": "code",
   "execution_count": null,
   "metadata": {},
   "outputs": [],
   "source": [
    "circlelistfinal"
   ]
  },
  {
   "cell_type": "code",
   "execution_count": null,
   "metadata": {},
   "outputs": [],
   "source": [
    "#Pulling out the center of circle:\n",
    "circlelistfinalcenter=circlelistfinal[0][0]\n",
    "circlelistfinalcenter"
   ]
  },
  {
   "cell_type": "code",
   "execution_count": null,
   "metadata": {},
   "outputs": [],
   "source": [
    "#Pulling out radius\n",
    "circlelistfinalradius=circlelistfinal[0][1]\n",
    "circlelistfinalradius"
   ]
  },
  {
   "cell_type": "code",
   "execution_count": null,
   "metadata": {},
   "outputs": [],
   "source": [
    "#Now I determine the color of the light:\n",
    "#First I am going to create a mask from the selected circlular region\n",
    "#It will be overlayed on the intial read-in image\n"
   ]
  },
  {
   "cell_type": "code",
   "execution_count": null,
   "metadata": {},
   "outputs": [],
   "source": [
    "mask=np.zeros(meanshiftedleftgray.shape,np.uint8)\n",
    "cv2.circle(mask,circlelistfinalcenter,circlelistfinalradius,255,-1,cv2.LINE_AA)\n",
    "#mean_val=cv2.mean(meanshiftedleftgray,mask)[0]"
   ]
  },
  {
   "cell_type": "code",
   "execution_count": null,
   "metadata": {},
   "outputs": [],
   "source": [
    "#mean_val"
   ]
  },
  {
   "cell_type": "code",
   "execution_count": null,
   "metadata": {},
   "outputs": [],
   "source": [
    "gplot(mask)"
   ]
  },
  {
   "cell_type": "code",
   "execution_count": null,
   "metadata": {},
   "outputs": [],
   "source": [
    "#Now I use this mask on the original color image:\n",
    "maskcolor=cv2.cvtColor(mask,cv2.COLOR_GRAY2BGR)\n",
    "tempimage=cv2.bitwise_and(meanshiftedleft,maskcolor)\n",
    "iplot(tempimage)"
   ]
  },
  {
   "cell_type": "code",
   "execution_count": null,
   "metadata": {},
   "outputs": [],
   "source": [
    "#Now I backproject and count number of pixels for each color backprojected\n",
    "#actually I decided to just avg the probabilities found"
   ]
  },
  {
   "cell_type": "code",
   "execution_count": null,
   "metadata": {},
   "outputs": [],
   "source": [
    "#Here I read in the different training sets for each color:\n",
    "\n",
    "#WARNING YOU HAVE TO ENTER IN THE NEW PATHS:\n",
    "#I did not get to dynamically coding this so it sleects the training images in the current folder\n",
    "yellowtrain=cv2.imread('/Users/code/Downloads/CamVidLights/trainforyellow2.png')\n",
    "\n",
    "greentrain = cv2.imread('/Users/code/Downloads/CamVidLights/trainfor12610.png')\n",
    "\n",
    "redtrain=cv2.imread('/Users/code/Downloads/CamVidLights/trainforred.png')\n"
   ]
  },
  {
   "cell_type": "code",
   "execution_count": null,
   "metadata": {},
   "outputs": [],
   "source": [
    "#viewing the training set:\n",
    "trainingset=[yellowtrain,greentrain,redtrain]\n",
    "for img in trainingset:\n",
    "    iplot(img)"
   ]
  },
  {
   "cell_type": "code",
   "execution_count": null,
   "metadata": {},
   "outputs": [],
   "source": [
    "#now I create a backprojection function\n",
    "#will have to apply this to both left and right\n",
    "\n",
    "def backprojection(img,train):\n",
    "    \n",
    "    hsvimg = cv2.cvtColor(img,cv2.COLOR_BGR2HSV)\n",
    "    \n",
    "    hsvtrain = cv2.cvtColor(train,cv2.COLOR_BGR2HSV)\n",
    "    hsvtrainhist = cv2.calcHist([hsvtrain],[0, 1], None, [180, 256], [0, 180, 0, 256] )\n",
    "    cv2.normalize(hsvtrain,hsvtrain,0,255,cv2.NORM_MINMAX)\n",
    "    \n",
    "    probimg = cv2.calcBackProject([hsvimg],[0,1],hsvtrainhist,[0,180,0,256],1)\n",
    "    avgprob=cv2.mean(probimg,mask)[0] \n",
    "    # if mask is not perfect i might get black pixels which will throw off avg prob\n",
    "    return avgprob"
   ]
  },
  {
   "cell_type": "code",
   "execution_count": null,
   "metadata": {},
   "outputs": [],
   "source": [
    "#determing the color based on my color list\n",
    "def findcolorindex(img,trainlist):\n",
    "    temp=0\n",
    "    index=0\n",
    "    for i,t in enumerate(trainlist):\n",
    "        tempavg=backprojection(img,t)\n",
    "        print(tempavg)\n",
    "        if tempavg>temp:\n",
    "            index=i\n",
    "            temp=tempavg\n",
    "\n",
    "    return index"
   ]
  },
  {
   "cell_type": "code",
   "execution_count": null,
   "metadata": {},
   "outputs": [],
   "source": [
    "#printing out color based on index value\n",
    "def findcolor(img,trainlist):\n",
    "    \n",
    "    cindex=findcolorindex(img,trainlist)\n",
    "    \n",
    "    if cindex==0:\n",
    "        color='yellow'\n",
    "    elif cindex==1:\n",
    "        color='green'\n",
    "    elif cindex==2:\n",
    "        color='red'\n",
    "    \n",
    "    return color"
   ]
  },
  {
   "cell_type": "code",
   "execution_count": null,
   "metadata": {},
   "outputs": [],
   "source": [
    "findcolorindex(meanshiftedleft,trainingset)"
   ]
  },
  {
   "cell_type": "code",
   "execution_count": null,
   "metadata": {},
   "outputs": [],
   "source": [
    "findcolor(meanshiftedleft,trainingset)"
   ]
  },
  {
   "cell_type": "code",
   "execution_count": null,
   "metadata": {},
   "outputs": [],
   "source": [
    "#Finally I draw the rectangle on the original image\n",
    "meanshiftedleftlocated=cv2.rectangle(target,topleft,bottomright,(0,0,255),2)"
   ]
  },
  {
   "cell_type": "code",
   "execution_count": null,
   "metadata": {},
   "outputs": [],
   "source": [
    "#Of course I would need to do all of this to the right hand side as well"
   ]
  },
  {
   "cell_type": "code",
   "execution_count": null,
   "metadata": {},
   "outputs": [],
   "source": [
    "iplot(meanshiftedleftlocated)"
   ]
  }
 ],
 "metadata": {
  "kernelspec": {
   "display_name": "Python 3",
   "language": "python",
   "name": "python3"
  },
  "language_info": {
   "codemirror_mode": {
    "name": "ipython",
    "version": 3
   },
   "file_extension": ".py",
   "mimetype": "text/x-python",
   "name": "python",
   "nbconvert_exporter": "python",
   "pygments_lexer": "ipython3",
   "version": "3.7.4"
  }
 },
 "nbformat": 4,
 "nbformat_minor": 2
}
